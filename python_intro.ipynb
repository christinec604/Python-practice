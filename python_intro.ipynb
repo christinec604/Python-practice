{
  "nbformat": 4,
  "nbformat_minor": 0,
  "metadata": {
    "colab": {
      "provenance": [],
      "include_colab_link": true
    },
    "kernelspec": {
      "name": "python3",
      "display_name": "Python 3"
    },
    "language_info": {
      "name": "python"
    }
  },
  "cells": [
    {
      "cell_type": "markdown",
      "metadata": {
        "id": "view-in-github",
        "colab_type": "text"
      },
      "source": [
        "<a href=\"https://colab.research.google.com/github/christinec604/Python-practice/blob/main/python_intro.ipynb\" target=\"_parent\"><img src=\"https://colab.research.google.com/assets/colab-badge.svg\" alt=\"Open In Colab\"/></a>"
      ]
    },
    {
      "cell_type": "code",
      "execution_count": null,
      "metadata": {
        "id": "18ABRnqfbjr-",
        "outputId": "9901455f-de60-4e7b-b81c-d2e689e8685c",
        "colab": {
          "base_uri": "https://localhost:8080/"
        }
      },
      "outputs": [
        {
          "output_type": "stream",
          "name": "stdout",
          "text": [
            "Hello World\n"
          ]
        }
      ],
      "source": [
        "print(\"Hello World\")"
      ]
    },
    {
      "cell_type": "code",
      "source": [
        "# String\n",
        "word = \"Hello World\"\n",
        "\n",
        "# Number\n",
        "num = 10\n",
        "\n",
        "# List\n",
        "scores = [90, 80, 100, 65]\n",
        "sports = [\"baseball\", \"badminton\"]\n",
        "\n",
        "# Dic\n",
        "grades = {\n",
        "    'Math': 90,\n",
        "    'English': 80\n",
        "}"
      ],
      "metadata": {
        "colab": {
          "base_uri": "https://localhost:8080/"
        },
        "id": "-ENfREmseSKx",
        "outputId": "6eb649d4-4c83-412e-ac20-99717c82ee90"
      },
      "execution_count": null,
      "outputs": [
        {
          "output_type": "stream",
          "name": "stdout",
          "text": [
            "Hello World\n"
          ]
        }
      ]
    },
    {
      "cell_type": "code",
      "source": [
        "# 練習 1\n",
        "# print 任何你想要的文字或數字，print裡面只能放變數\n",
        "\n",
        "greet = \"How're doing\"\n",
        "print(greet)"
      ],
      "metadata": {
        "colab": {
          "base_uri": "https://localhost:8080/"
        },
        "id": "8jtvNC2zfKXM",
        "outputId": "3e74fdfa-3fb8-458d-f38b-fb8c40579c8c"
      },
      "execution_count": null,
      "outputs": [
        {
          "output_type": "stream",
          "name": "stdout",
          "text": [
            "How're doing\n"
          ]
        }
      ]
    },
    {
      "cell_type": "code",
      "source": [
        "# 練習2\n",
        "# 請新增兩個變數，這兩個變數可以是 number or string ，請大家在 print 中 print 兩個以上的 variable\n",
        "\n",
        "greet = \"How're doing \"\n",
        "res = \"Great, how're you?\"\n",
        "comb = greet + res\n",
        "\n",
        "print(comb)\n",
        "\n",
        "\n",
        "num_1 = 5\n",
        "num_2 = 10\n",
        "num_3 = 10 / 5 # + - 乘法* 除以 /\n",
        "print(num_3)\n"
      ],
      "metadata": {
        "colab": {
          "base_uri": "https://localhost:8080/"
        },
        "id": "l-nKWRfpjupp",
        "outputId": "1ef53d9a-bf67-450d-fe52-f31ba6b4f757"
      },
      "execution_count": null,
      "outputs": [
        {
          "output_type": "stream",
          "name": "stdout",
          "text": [
            "How're doing Great, how're you?\n",
            "2.0\n"
          ]
        }
      ]
    },
    {
      "cell_type": "code",
      "source": [
        "question = \"How old are you? \"\n",
        "old = 18\n",
        "result = \"I'm \" + str(old)\n",
        "print(result)"
      ],
      "metadata": {
        "colab": {
          "base_uri": "https://localhost:8080/"
        },
        "id": "sHtR1FS7mZbD",
        "outputId": "9bf56141-4c12-4582-ce04-f0f5ada8b46b"
      },
      "execution_count": null,
      "outputs": [
        {
          "output_type": "stream",
          "name": "stdout",
          "text": [
            "I'm 18\n"
          ]
        }
      ]
    },
    {
      "cell_type": "code",
      "source": [
        "# python型別二: string\n",
        "\n",
        "word = \"Hello\"\n",
        "\n",
        "\n",
        "fifth_letter = \"Share\"\n",
        "list_letter = [\"share\", \"account\", \"passcode\"]\n",
        "print(list_letter[0])\n",
        "print(fifth_letter[0])\n",
        "\n",
        "animal = \"Dog is an Animal\"\n",
        "\n",
        "print (len(animal))\n",
        "print (animal.lower())\n",
        "print (animal.upper())\n",
        "\n",
        "age = 20\n",
        "\n",
        "str(age)\n",
        "\n",
        "mood = \"Happy\"\n",
        "\n",
        "name = \"Dog\"\n",
        "\n",
        "result = \"I'm \" + str(age)\n",
        "\n",
        "print (result)\n",
        "#print (mood + name)"
      ],
      "metadata": {
        "id": "J1gXr76pn7UR"
      },
      "execution_count": null,
      "outputs": []
    },
    {
      "cell_type": "code",
      "source": [
        "animal = \"Dog is an Animal\"\n",
        "\n",
        "print (len(animal)) # length\n",
        "print (animal.lower()) #\n",
        "print (animal.upper())"
      ],
      "metadata": {
        "colab": {
          "base_uri": "https://localhost:8080/"
        },
        "id": "P70U_BH0XgGa",
        "outputId": "1d9ef19c-ea4a-4d49-a59b-c099529a4bfb"
      },
      "execution_count": null,
      "outputs": [
        {
          "output_type": "stream",
          "name": "stdout",
          "text": [
            "16\n",
            "dog is an animal\n",
            "DOG IS AN ANIMAL\n"
          ]
        }
      ]
    },
    {
      "cell_type": "code",
      "source": [
        "animal = \"Dog is an Animal\"\n",
        "\n",
        "print (len(animal))\n",
        "print (animal.lower())\n",
        "print (animal.upper())"
      ],
      "metadata": {
        "id": "aDMr61fDn_a4"
      },
      "execution_count": null,
      "outputs": []
    },
    {
      "cell_type": "code",
      "source": [
        "# 課堂練習1:\n",
        "\n",
        "sent = \"Today is a good day!\"\n",
        "\n",
        "# 1: print 出句子長度\n",
        "print(len(sent))\n",
        "\n",
        "# 2: 把句子轉成大寫\n",
        "print(sent.upper())\n",
        "\n",
        "# 3: 把句子轉小寫\n",
        "print(sent.lower())"
      ],
      "metadata": {
        "id": "zeBUqSUMoAHc",
        "colab": {
          "base_uri": "https://localhost:8080/"
        },
        "outputId": "095db683-50a5-411d-d107-0d474b6869e0"
      },
      "execution_count": null,
      "outputs": [
        {
          "output_type": "stream",
          "name": "stdout",
          "text": [
            "20\n",
            "TODAY IS A GOOD DAY!\n",
            "today is a good day!\n"
          ]
        }
      ]
    },
    {
      "cell_type": "code",
      "source": [
        "#補充 print\n",
        "\n",
        "string_1 = \"San Francisco\"\n",
        "string_2 = \"Silicon Valley\"\n",
        "string_3 = \"Taipei\"\n",
        "string_4 = '101'\n",
        "\n",
        "\n",
        "\n",
        "print(\"Let's go to %s. It's very close to %s.\" % (string_3, string_4))\n",
        "print(\"Let's go to %s. It's very close to %s.\" % (string_2, string_1))\n",
        "\n",
        "\n",
        "# total = 20 / 6\n",
        "\n",
        "# print(\"It is a float number %.9f\" % total)\n",
        "# print(\"%d\" % total)"
      ],
      "metadata": {
        "id": "25S1gPDFoQOe",
        "colab": {
          "base_uri": "https://localhost:8080/"
        },
        "outputId": "fd798d9a-6711-4870-afe9-71b94eebc311"
      },
      "execution_count": null,
      "outputs": [
        {
          "output_type": "stream",
          "name": "stdout",
          "text": [
            "Let's go to Taipei. It's very close to 101.\n",
            "Let's go to Silicon Valley. It's very close to San Francisco.\n"
          ]
        }
      ]
    },
    {
      "cell_type": "code",
      "source": [
        "# 課堂練習2\n",
        "\n",
        "# 請寫出 2個變數，並利用 %s print 出\n",
        "\n",
        "\n",
        "\n",
        "a = \"test\"\n",
        "b = \"English\"\n",
        "\n",
        "print(\"The subject of %s is %s.\" % (a, b))"
      ],
      "metadata": {
        "id": "JhOjMbNsoSXL"
      },
      "execution_count": null,
      "outputs": []
    },
    {
      "cell_type": "code",
      "source": [
        "# Conditional 條件式邏輯\n",
        "\n",
        "\n",
        "#情境一：去超市買蘋果\n",
        "\n",
        "box = \"apple\"\n",
        "\n",
        "if box == 'apple':\n",
        "  print (\"found\")\n",
        "else:\n",
        "  print (\"not found\")\n",
        "\n",
        "\n",
        "#情境二 去超市買蘋果，如果沒有頻果就買香蕉\n",
        "\n",
        "b = \"pineapple\"\n",
        "\n",
        "if b == \"apple\":\n",
        "  print (\"%s is my first choice\" % b)\n",
        "elif b == \"banana\":\n",
        "  print (\"%s is my second choice\" % b)\n",
        "else:\n",
        "  print (\"not found\")\n",
        "  print(\"Hi\")\n",
        "  print(\"Test\")\n"
      ],
      "metadata": {
        "id": "gIrIMcCCoa_W"
      },
      "execution_count": null,
      "outputs": []
    },
    {
      "cell_type": "code",
      "source": [
        "box = \"banana\"\n",
        "\n",
        "if box == 'apple':\n",
        "  print(\"found\")\n",
        "else:\n",
        "  print(\"not found\")"
      ],
      "metadata": {
        "colab": {
          "base_uri": "https://localhost:8080/"
        },
        "id": "hzmP6nOua6CC",
        "outputId": "bdc44175-6142-4fdd-835c-98c79c9565de"
      },
      "execution_count": null,
      "outputs": [
        {
          "output_type": "stream",
          "name": "stdout",
          "text": [
            "not found\n"
          ]
        }
      ]
    },
    {
      "cell_type": "code",
      "source": [
        "# function\n",
        "\n",
        "\n",
        "# function就像是某種機器，你把原料丟進去，就會幫你做出東西來\n",
        "\n",
        "\n",
        "def burgerMaker(material1, material2, material3):\n",
        "\tprint (\"%s + %s + %s is a burger! \" % (material1, material2, material3))\n",
        "\n",
        "# burgerMaker(\"meat\", \"bread\", \"lettuce\")\n",
        "\n",
        "\n",
        "#function的概念是把程式碼封裝起來重複使用\n",
        "#字母轉換\n",
        "\n",
        "def wordDetect(s):\n",
        "  if len(s) >= 5:\n",
        "    print (\"original\")\n",
        "  elif s == s.lower():\n",
        "    print (\"lower\")\n",
        "  elif s == s.upper():\n",
        "    print (\"upper\")\n",
        "  else:\n",
        "    print (\"else result\")\n",
        "\n",
        "wordDetect(\"hello\")\n",
        "\n",
        "#問題2：我們可以用if if else嗎？\n",
        "\n",
        "#練習4: 模仿wordDetect function，並試著改寫"
      ],
      "metadata": {
        "id": "zVcCVbnYooM1",
        "colab": {
          "base_uri": "https://localhost:8080/"
        },
        "outputId": "6feeadd6-7046-4af1-9631-f1273db0de21"
      },
      "execution_count": null,
      "outputs": [
        {
          "output_type": "stream",
          "name": "stdout",
          "text": [
            "original\n"
          ]
        }
      ]
    },
    {
      "cell_type": "code",
      "source": [
        "#練習4: 模仿wordDetect function，並試著改寫\n",
        "def wordDetect(s):\n",
        "  if len(s) >= 5:\n",
        "    print (\"original\")\n",
        "  elif s == s.lower(): # else if\n",
        "    print (\"lower\")\n",
        "  elif s == s.upper(): # else if\n",
        "    print (\"upper\")\n",
        "  else:\n",
        "    print (\"else result\")\n",
        "\n",
        "wordDetect(\"Hello\")\n",
        "\n",
        "# 單詞計數器\n",
        "# 要求學生編寫一個 Python 函數，將輸入的一段英文文本（字符串）作為參數，\n",
        "# 計算文本中單詞的數量，並將結果返回。\n",
        "# 學生應該使用字符串的 split() 方法將文本分割成單詞列表，然後計算列表中的單詞數量。\n",
        "\n",
        "def count_words(text):\n",
        "    words = text.split() #[\"Hello\", \"World\"]\n",
        "    print(len(words))\n",
        "count_words(\"Hello World\")"
      ],
      "metadata": {
        "colab": {
          "base_uri": "https://localhost:8080/"
        },
        "id": "P5Joro-Ce1V7",
        "outputId": "e3cbd350-5092-4ebe-ce60-4ae4a7d37244"
      },
      "execution_count": null,
      "outputs": [
        {
          "output_type": "stream",
          "name": "stdout",
          "text": [
            "original\n",
            "2\n"
          ]
        }
      ]
    },
    {
      "cell_type": "code",
      "source": [
        "#補充 Library: 已經寫好的function!\n",
        "\n",
        "import math\n",
        "\n",
        "# Square root 開根號\n",
        "math.sqrt(25)\n",
        "\n",
        "#from module import function\n",
        "\n",
        "# from math import sqrt\n",
        "\n",
        "# sqrt(25)\n"
      ],
      "metadata": {
        "id": "TR4oQljLo2J2",
        "colab": {
          "base_uri": "https://localhost:8080/"
        },
        "outputId": "d06d3ebc-3dee-4e58-f8a3-527762e2ed24"
      },
      "execution_count": null,
      "outputs": [
        {
          "output_type": "execute_result",
          "data": {
            "text/plain": [
              "5.0"
            ]
          },
          "metadata": {},
          "execution_count": 23
        }
      ]
    },
    {
      "cell_type": "code",
      "source": [
        "# python型別三: list\n",
        "\n",
        "#list\n",
        "#list就好像置物櫃\n",
        "#list_name = [item_1, item_2]\n",
        "\n",
        "zoo_animals = [\"Dog\", \"Cat\", \"Bird\",\"Tiger\", \"Elephant\"]\n",
        "\n",
        "\n",
        "if len(zoo_animals) > 6:\n",
        "  print (\"The first animal at the zoo is the \" + zoo_animals[0])\n",
        "  print (\"The second animal at the zoo is the \" + zoo_animals[1])\n",
        "  print (\"The third animal at the zoo is the \" + zoo_animals[2])\n",
        "  print (\"The fourth animal at the zoo is the \" + zoo_animals[3])\n",
        "\n",
        "def countAnimals(a):\n",
        "  return len(a)\n",
        "\n",
        "num = countAnimals(zoo_animals)\n",
        "print(num)"
      ],
      "metadata": {
        "id": "B15C2v27o5SY",
        "colab": {
          "base_uri": "https://localhost:8080/"
        },
        "outputId": "568a87bb-65bb-4fd3-acb9-dc0a226cb5a6"
      },
      "execution_count": null,
      "outputs": [
        {
          "output_type": "stream",
          "name": "stdout",
          "text": [
            "5\n"
          ]
        }
      ]
    },
    {
      "cell_type": "code",
      "source": [
        "#補充 List Slicing\n",
        "\n",
        "suitcase = [\n",
        "\"sunglasses\",\n",
        "\"hat\",\n",
        "\"passport\",\n",
        "\"laptop\",\n",
        "\"suit\",\n",
        "\"shoes\"\n",
        "]\n",
        "\n",
        "\n",
        "# The first and second items (index zero and one)\n",
        "first = suitcase[0:2] # 0 之後, 2 之前 0 <= x < 2\n",
        "print (first)\n",
        "\n",
        "# Third and fourth items (index two and three)\n",
        "middle = suitcase[2:4]\n",
        "#print (middle)\n",
        "\n",
        "# The last two items (index four and five)\n",
        "last =  suitcase[4:6]\n",
        "#print (last)"
      ],
      "metadata": {
        "id": "s6K6zJlto9O7",
        "colab": {
          "base_uri": "https://localhost:8080/"
        },
        "outputId": "6149b9cd-54b9-40a7-9a4a-48d0d537d1a9"
      },
      "execution_count": null,
      "outputs": [
        {
          "output_type": "stream",
          "name": "stdout",
          "text": [
            "['sunglasses', 'hat', 'passport']\n"
          ]
        }
      ]
    },
    {
      "cell_type": "code",
      "source": [
        "animals = \"catdogfrog\"\n",
        "\n",
        "# The first three characters of animals\n",
        "cat = animals[:3]\n",
        "print (cat)\n",
        "# The fourth through sixth characters\n",
        "dog = animals[3:]\n",
        "print (dog)\n",
        "\n",
        "# From the seventh character to the end\n",
        "frog = animals[6:]\n",
        "print (frog)"
      ],
      "metadata": {
        "id": "z7yWUy3LpBzd"
      },
      "execution_count": null,
      "outputs": []
    },
    {
      "cell_type": "code",
      "source": [
        "# 練習\n",
        "\n",
        "zoo_animals_1 = [\"Dog\", \"Cat\", \"Bird\",\"Tiger\", \"Elephant\"];\n",
        "zoo_animals_2 =  [\"Dog\"]\n",
        "\n",
        "\n",
        "# 檢查 Animals 裡面有沒有超過 2 隻動物，如果有的話 print (\"yes\") , 沒有的話 print (\"no\")\n",
        "\n",
        "\n",
        "# len()\n",
        "# if else\n",
        "\n",
        "def checkAnimals(animals):\n",
        "  if (len(animals) > 2):\n",
        "    print('yes')\n",
        "  else:\n",
        "    print('no')\n",
        "\n",
        "\n",
        "\n",
        "checkAnimals(zoo_animals_1) #  yes\n",
        "\n",
        "checkAnimals(zoo_animals_2) # no"
      ],
      "metadata": {
        "id": "8bez_VuOpEEm",
        "colab": {
          "base_uri": "https://localhost:8080/"
        },
        "outputId": "c77a26c5-2e58-47a3-c489-1aa01e170a0d"
      },
      "execution_count": null,
      "outputs": [
        {
          "output_type": "stream",
          "name": "stdout",
          "text": [
            "yes\n",
            "no\n"
          ]
        }
      ]
    },
    {
      "cell_type": "code",
      "source": [
        "# 遍歷一個範圍內的數字\n",
        "# for i in range(5):\n",
        "#     print(i)\n",
        "\n",
        "# 遍歷一個列表 (list)\n",
        "# names = ['Alice', 'Bob', 'Cathy', 'David']\n",
        "# for name in names:\n",
        "#     print(name)\n",
        "\n",
        "# 遍歷字典 (dictionary) 的鍵 (keys) 和值 (values)\n",
        "grades = {'Math': 90, 'English': 80, 'Physics': 70, 'Chemistry': 85} # key, value\n",
        "for subject, grade in grades.items():\n",
        "    print(subject, grade)"
      ],
      "metadata": {
        "id": "CZDdLBN4pN-w",
        "colab": {
          "base_uri": "https://localhost:8080/"
        },
        "outputId": "ad95e907-8d79-4c41-ce4a-d26a7075d448"
      },
      "execution_count": null,
      "outputs": [
        {
          "output_type": "stream",
          "name": "stdout",
          "text": [
            "Math 90\n",
            "English 80\n",
            "Physics 70\n",
            "Chemistry 85\n"
          ]
        }
      ]
    },
    {
      "cell_type": "code",
      "source": [
        "# 單詞計數器\n",
        "# 要求學生編寫一個 Python 函數，將輸入的一段英文文本（字符串）作為參數，\n",
        "# 計算文本中單詞的數量，並將結果返回。\n",
        "# 學生應該使用字符串的 split() 方法將文本分割成單詞列表，然後計算列表中的單詞數量。\n",
        "def count_words(text):\n",
        "    words = text.split()\n",
        "    return len(words)\n",
        "\n",
        "sample_text = \"This is a sample text for the assignment.\"\n",
        "word_count = count_words(sample_text)\n",
        "print(f\"Word count: {word_count}\")"
      ],
      "metadata": {
        "colab": {
          "base_uri": "https://localhost:8080/"
        },
        "id": "6ZjCBTGSpscg",
        "outputId": "a2e965c3-647b-4cfb-f9aa-928976419598"
      },
      "execution_count": null,
      "outputs": [
        {
          "output_type": "stream",
          "name": "stdout",
          "text": [
            "Word count: 8\n"
          ]
        }
      ]
    },
    {
      "cell_type": "code",
      "source": [
        "# 尋找元音字母\n",
        "# 要求學生編寫一個 Python 函數，接收一個英文單詞（字符串）作為參數，\n",
        "# 找出單詞中所有的元音字母（大小寫均可），\n",
        "# 並將它們返回到一個列表中。學生應該使用 for 迴圈和條件語句（if）來檢查每個字母是否為元音\n",
        "\n",
        "def find_vowels(word):\n",
        "    vowels = ['a', 'e', 'i', 'o', 'u', 'A', 'E', 'I', 'O', 'U']\n",
        "    found_vowels = []\n",
        "\n",
        "    for letter in word:\n",
        "        if letter in vowels:\n",
        "            found_vowels.append(letter)\n",
        "\n",
        "    return found_vowels\n",
        "\n",
        "sample_word = \"Linguistics\"\n",
        "vowels_in_word = find_vowels(sample_word)\n",
        "print(f\"Vowels in '{sample_word}': {vowels_in_word}\")"
      ],
      "metadata": {
        "colab": {
          "base_uri": "https://localhost:8080/"
        },
        "id": "0FIx0ODLp-Z0",
        "outputId": "3b131693-8a01-4ce1-88ea-8c0e0dcf42dd"
      },
      "execution_count": null,
      "outputs": [
        {
          "output_type": "stream",
          "name": "stdout",
          "text": [
            "Vowels in 'Linguistics': ['i', 'u', 'i', 'i']\n"
          ]
        }
      ]
    }
  ]
}